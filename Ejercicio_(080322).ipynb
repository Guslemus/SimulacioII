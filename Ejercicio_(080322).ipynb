{
  "nbformat": 4,
  "nbformat_minor": 0,
  "metadata": {
    "colab": {
      "name": "Ejercicio (080322).ipynb",
      "provenance": [],
      "collapsed_sections": []
    },
    "kernelspec": {
      "name": "python3",
      "display_name": "Python 3"
    },
    "language_info": {
      "name": "python"
    }
  },
  "cells": [
    {
      "cell_type": "markdown",
      "source": [
        "#Ejercicio (080322):\n"
      ],
      "metadata": {
        "id": "veoKTe30RI-d"
      }
    },
    {
      "cell_type": "code",
      "execution_count": null,
      "metadata": {
        "colab": {
          "base_uri": "https://localhost:8080/"
        },
        "id": "tOuATZNOF066",
        "outputId": "8e2aca52-ce00-47b2-df62-a12cfe54a807"
      },
      "outputs": [
        {
          "output_type": "stream",
          "name": "stdout",
          "text": [
            "11.150322899685754\n"
          ]
        }
      ],
      "source": [
        "import random                                   # importamos el módulo random\n",
        "import numpy as np                              # importamos numpy con un alias (np)\n",
        "import matplotlib.pyplot as plt                 # Nuestras paqueterias para graf.\n",
        "import math\n",
        "\n",
        "s=8                                             #Numero de clientes\n",
        "t=s\n",
        "Ts=s+1\n",
        "lamb=1                                         # Parametro lamda\n",
        "while Ts!=t:                                   #Contador ciclo\n",
        "  U=random.random()\n",
        "  t=t-(1/lamb)*math.log(U)\n",
        "  U1=random.random()\n",
        "  if U1<=(lamb*t)/lamb:\n",
        "    Ts=t\n",
        "print(Ts) #Valor de la primera llegada despues del instante s"
      ]
    },
    {
      "cell_type": "code",
      "source": [
        ""
      ],
      "metadata": {
        "id": "o-gJ23ru14XB"
      },
      "execution_count": null,
      "outputs": []
    },
    {
      "cell_type": "markdown",
      "source": [
        "| Pkt No. |Tpll  |tps  |Tiempo de arribo|Inicio de servicio|Hora de salida|Tiempo en fila |Tiempo en el sistema  |\n",
        "|---------|-----|----|--------------|-------------------|----------------|---------------|-----------------| \n",
        "|    1    |  2  | 12 |       2      |         2         |      14        |      0        |       12        |\n",
        "|    2    |  5  | 10 |       7      |         14        |      24        |      7        |       17        | \n",
        "|    3    |  1  | 16 |      8        |        24           |      40          | 16              |     32            |\n",
        "|    4    |  4  | 9  |      12        |     40              |     49           |  28             |      37           |\n",
        "|    5    |  1  | 10 |     13         |       49            |     59           |  36             |       46          | \n",
        "|    6    |  3  | 13 |     16         |         59          |      72          |   43            |      56           |\n",
        "|    7    |  3  | 17 |     19         |       72            |       89         |    53           |      70           | \n",
        "|    8    |  2  | 10 |     21         |         89          |        99        |    68           |      78           |\n",
        "|    9    |  4  | 8  |     25         |         99          |       107         |    74          |       82          |\n",
        "|   10    |  5  | 12 |     30         |       107            |       119         |      77         |       89          ||"
      ],
      "metadata": {
        "id": "vjYZ0hvpTuvv"
      }
    }
  ]
}