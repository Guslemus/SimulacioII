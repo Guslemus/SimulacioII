{
  "nbformat": 4,
  "nbformat_minor": 0,
  "metadata": {
    "colab": {
      "name": "Ejercicios_linea_de_espera.ipynb",
      "provenance": []
    },
    "kernelspec": {
      "name": "python3",
      "display_name": "Python 3"
    },
    "language_info": {
      "name": "python"
    }
  },
  "cells": [
    {
      "cell_type": "markdown",
      "source": [
        "**Líneas de espera**"
      ],
      "metadata": {
        "id": "UdGaDGT2EmIm"
      }
    },
    {
      "cell_type": "markdown",
      "source": [
        "| Pkt No. |Tpll  |tps  |Tiempo de arribo|Inicio de servicio|Hora de salida|Tiempo en fila |Tiempo en el sistema  |\n",
        "|---------|-----|----|--------------|-------------------|----------------|---------------|-----------------| \n",
        "|    1    |  2  | 12 |       2      |         2         |      14       |      0        |       12        |\n",
        "|    2    |  5  | 10 |       7      |         14        |      24       |      7        |       17        | \n",
        "|    3    |  1  | 16 |       8      |         24        |      40       |       16       |       32        |\n",
        "|    4    |  4  | 9  |       12     |         40        |      49       |    28       |       37        |\n",
        "|    5    |  1  | 10 |      13      |         49        |      59       |     36       |       46        | \n",
        "|    6    |  3  | 13 |      16      |         59        |      72       |       43       |       56        |\n",
        "|    7    |  3  | 17 |      19      |         72        |      89       |      53       |        70       | \n",
        "|    8    |  2  | 10 |      21      |         89        |      99       |      68       |        78       |\n",
        "|    9    |  4  | 8  |      25      |         99        |      107      |     74       |        82       |\n",
        "|   10    |  5  | 12 |      30      |         107       |      119      |       77       |        89       |"
      ],
      "metadata": {
        "id": "Gi-FlPcEDE0-"
      }
    },
    {
      "cell_type": "code",
      "source": [
        "import random \n",
        "import math\n",
        "import matplotlib.pyplot as plt\n",
        "\n",
        "def p(x):\n",
        "  z = -(1/x)* math.log(random.random())\n",
        "  return z\n",
        "\n",
        "T = 30\n",
        "pe = 1\n",
        "ps = 1.5\n",
        "inf = 1000000\n",
        "t = 0\n",
        "te = 0\n",
        "ts = 0\n",
        "ta = 0\n",
        "c = 0\n",
        "w = 0\n",
        "C = []\n",
        "K = []\n",
        "\n",
        "while w == 0:\n",
        "  C.append(c)\n",
        "  K.append(t)\n",
        "  te = p(pe)\n",
        "  ts = p(ps)\n",
        "  if c == 0:\n",
        "    ts = inf\n",
        "  ta = min(te, ts) \n",
        "\n",
        "  if(ta == te):\n",
        "    h = p(pe)\n",
        "    t = t + h\n",
        "    if (t>T):\n",
        "      t = t - h\n",
        "      w = 1\n",
        "      break\n",
        "    c = c + 1\n",
        "\n",
        "  else:\n",
        "    t = t + p(ps)\n",
        "    c = c - 1\n",
        "\n",
        "while c > 0:\n",
        "  t = t + p(ps)\n",
        "  c = c - 1\n",
        "  C.append(c)\n",
        "  K.append(t)\n",
        "\n",
        "plt.step(K,C)\n",
        "plt.show()"
      ],
      "metadata": {
        "colab": {
          "base_uri": "https://localhost:8080/",
          "height": 265
        },
        "id": "PY0iRTrdAH0O",
        "outputId": "8da3378f-0426-4774-d845-f9d998375d8a"
      },
      "execution_count": 1,
      "outputs": [
        {
          "output_type": "display_data",
          "data": {
            "text/plain": [
              "<Figure size 432x288 with 1 Axes>"
            ],
            "image/png": "[encoded data removed]"
          },
          "metadata": {
            "needs_background": "light"
          }
        }
      ]
    },
    {
      "cell_type": "code",
      "source": [
        ""
      ],
      "metadata": {
        "id": "7va6BmsWFga7"
      },
      "execution_count": null,
      "outputs": []
    }
  ]
}