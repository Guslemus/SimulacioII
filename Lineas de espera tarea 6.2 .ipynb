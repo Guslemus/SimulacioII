{
  "nbformat": 4,
  "nbformat_minor": 0,
  "metadata": {
    "colab": {
      "name": "Untitled4.ipynb",
      "provenance": []
    },
    "kernelspec": {
      "name": "python3",
      "display_name": "Python 3"
    },
    "language_info": {
      "name": "python"
    }
  },
  "cells": [
    {
      "cell_type": "markdown",
      "source": [
        "# Lineas de espera \n",
        "Tarea 6.2\n"
      ],
      "metadata": {
        "id": "n9JzPJ8wFBpy"
      }
    },
    {
      "cell_type": "code",
      "execution_count": 1,
      "metadata": {
        "colab": {
          "base_uri": "https://localhost:8080/"
        },
        "id": "WtWei3GNu4hz",
        "outputId": "a56eb040-3459-4543-fd40-1ce42ed82794"
      },
      "outputs": [
        {
          "output_type": "stream",
          "name": "stdout",
          "text": [
            "en el tiempo 0.12241154002567282 se tienen 1 clientes en cola y se han tenido en total 2 clientes\n",
            "en el tiempo 0.32232270086593484 se tienen 0 clientes en cola y se han tenido en total 2 clientes\n",
            "en el tiempo 0.9197654072622423 se tienen 1 clientes en cola y se han tenido en total 3 clientes\n",
            "en el tiempo 1.6850000247424024 se tienen 2 clientes en cola y se han tenido en total 4 clientes\n",
            "en el tiempo 2.4551164616107424 se tienen 3 clientes en cola y se han tenido en total 5 clientes\n",
            "en el tiempo 3.0884357788154873 se tienen 2 clientes en cola y se han tenido en total 5 clientes\n",
            "en el tiempo 3.369281940181497 se tienen 3 clientes en cola y se han tenido en total 6 clientes\n",
            "en el tiempo 3.397514547716094 se tienen 4 clientes en cola y se han tenido en total 7 clientes\n",
            "en el tiempo 6.1782671375132505 se tienen 5 clientes en cola y se han tenido en total 8 clientes\n",
            "en el tiempo 7.223934664000113 se tienen 4 clientes en cola y se han tenido en total 8 clientes\n",
            "en el tiempo 8.617377727028003 se tienen 3 clientes en cola y se han tenido en total 8 clientes\n",
            "en el tiempo 12.530577157062268 se tienen 4 clientes en cola y se han tenido en total 9 clientes\n",
            "quedan 3 clientes y estamos en el tiempo 14.554495355854218\n",
            "quedan 2 clientes y estamos en el tiempo 15.078968497668304\n",
            "quedan 1 clientes y estamos en el tiempo 15.856691826884962\n",
            "quedan 0 clientes y estamos en el tiempo 16.85141764419077\n"
          ]
        }
      ],
      "source": [
        "\n",
        "\n",
        "import numpy as np\n",
        "import random \n",
        "media=.5\n",
        "lam=.5                  #Parametro\n",
        "t=0                     #tiempo transcurrido \n",
        "T=10                    #tiempo que tienen los clientes para llegar \n",
        "x=-(1/media)*np.log(random.random())\n",
        "               #print(\"entrada 0\",x)\n",
        "a=10000\n",
        "n=0                     #Al inicio del proceso cola\n",
        "N=1                     #clientes totales en la cola\n",
        "while t<T:\n",
        "  if x<a:\n",
        "    t=x\n",
        "    x=t-(1/media)*np.log(random.random())\n",
        "    N=N+1\n",
        "    n=n+1\n",
        "               #print(\"entrada\",x,n) \n",
        "    if n==1:\n",
        "      a=t-(1/lam)*np.log(random.random())\n",
        "               #print(\"salida 1\",a,n)\n",
        "  else:\n",
        "    t=a\n",
        "    n=n-1\n",
        "    if n>0:\n",
        "      a=t-(1/lam)*np.log(random.random())\n",
        "    else:\n",
        "      a=1000\n",
        "               #print(\"salida 2\",a,n)\n",
        "  print(\"en el tiempo\",t,\"se tienen\",n,\"clientes en cola y se han tenido en total\",N,\"clientes\")\n",
        "\n",
        "while n>0:\n",
        "  a=t-(1/lam)*np.log(random.random())\n",
        "  t=a\n",
        "  n=n-1\n",
        "  print(\"quedan\",n,\"clientes y estamos en el tiempo\",t)"
      ]
    },
    {
      "cell_type": "code",
      "source": [
        ""
      ],
      "metadata": {
        "id": "Dl42Z3VnNjG6"
      },
      "execution_count": null,
      "outputs": []
    }
  ]
}