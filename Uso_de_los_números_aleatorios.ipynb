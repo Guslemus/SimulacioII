{
  "cells": [
    {
      "cell_type": "markdown",
      "metadata": {
        "id": "x4-SYqAM_F5N"
      },
      "source": [
        "# Uso de los números aleatorios"
      ]
    },
    {
      "cell_type": "markdown",
      "metadata": {
        "id": "7p6c7DgI_F5S"
      },
      "source": [
        "## 1. Introducción al Módulo random"
      ]
    },
    {
      "cell_type": "markdown",
      "metadata": {
        "id": "qNZV5U9f_F5T"
      },
      "source": [
        "El módulo random de la librería estándar de Python incluye un conjunto de funciones que permiten obtener de distintos modos \n",
        "números pseudoaleatorios a través del algoritmo [Mersenne Twister](https://es.wikipedia.org/wiki/Mersenne_twister)."
      ]
    },
    {
      "cell_type": "code",
      "execution_count": 87,
      "metadata": {
        "id": "n6tRXztE_F5T"
      },
      "outputs": [],
      "source": [
        "#importamos el módulo que vamos a usar \n",
        "\n",
        "import random   "
      ]
    },
    {
      "cell_type": "markdown",
      "metadata": {
        "id": "7XqXVYKe_F5V"
      },
      "source": [
        "Las funciones de los módulos se invocan con el formato: módulo.función().\n",
        "\n",
        "En el módulo random existe la función random, que devuelve un número aleatorio que sigue una distribución uniforme. \n",
        "\n",
        "Así, para obtener $x \\sim U(0,1)$:"
      ]
    },
    {
      "cell_type": "code",
      "execution_count": null,
      "metadata": {
        "id": "EyWeEykn_F5V"
      },
      "outputs": [],
      "source": [
        "x = random.random()  #Cada ejecución dará un número distinto.\n",
        "print(x)"
      ]
    },
    {
      "cell_type": "markdown",
      "metadata": {
        "id": "eNsFDqlc_F5W"
      },
      "source": [
        "Se puede usar algún bucle si se desea generar una secuencia $x_i \\sim U(0,1)$ con $i = 1, 2, 3,..., N$:"
      ]
    },
    {
      "cell_type": "code",
      "execution_count": null,
      "metadata": {
        "id": "v8YNWK7O_F5X"
      },
      "outputs": [],
      "source": [
        "for i in range(10):\n",
        "    print('%05.4f' % random.random(), end=' ')  #El código en rojo indica la cantidad de dígitos y de decimales a mostrar.\n",
        "print()"
      ]
    },
    {
      "cell_type": "code",
      "execution_count": null,
      "metadata": {
        "id": "6BDohaNr_F5X"
      },
      "outputs": [],
      "source": [
        "for i in range(10):\n",
        "    print('%05.4f' % random.random(), sep=\"\\t\")\n",
        "print()"
      ]
    },
    {
      "cell_type": "markdown",
      "metadata": {
        "id": "wX1IKNX2_F5Y"
      },
      "source": [
        "La función seed() fija el valor de la semilla en la generación de la secuencia de números aleatorios. \n",
        "Esto es útil cuando se quieren utilizar los mismos datos de entrada en una simulación."
      ]
    },
    {
      "cell_type": "code",
      "execution_count": null,
      "metadata": {
        "id": "QMfyZRCq_F5Z"
      },
      "outputs": [],
      "source": [
        "random.seed(1) #primero fijamos la semilla\n",
        "\n",
        "for i in range(20):\n",
        "    print('%05.4f' % random.random(), end=' ')\n",
        "print()"
      ]
    },
    {
      "cell_type": "markdown",
      "metadata": {
        "id": "xdVD2i8b_F5Z"
      },
      "source": [
        "## Ejercicio 1: \n",
        "    a)Usar la función random() para simular 1 volado.\n",
        "    b)Usar la función random() para simular 1000 volados.\n",
        "    c)Determinar de b) la probabilidad de que ocurra \"sol\" en un volado. "
      ]
    },
    {
      "cell_type": "code",
      "source": [
        "#usar la función random() para simular  volado\n",
        "def volado():\n",
        "    x=random.random()\n",
        "    if x <= 0.5:\n",
        "        moneda = \"aguila\"\n",
        "    else:\n",
        "        moneda = \"sol\"\n",
        "    return moneda"
      ],
      "metadata": {
        "id": "5LkDdhNd_rrG"
      },
      "execution_count": 89,
      "outputs": []
    },
    {
      "cell_type": "code",
      "source": [
        "print(volado())"
      ],
      "metadata": {
        "id": "iY0Awu9NCUdb",
        "outputId": "e63251d8-6f0b-42b7-e788-71772a71ec79",
        "colab": {
          "base_uri": "https://localhost:8080/"
        }
      },
      "execution_count": 90,
      "outputs": [
        {
          "output_type": "stream",
          "name": "stdout",
          "text": [
            "sol\n"
          ]
        }
      ]
    },
    {
      "cell_type": "code",
      "source": [
        "#Usar la función random() para simular 100 volado\n",
        "aguila= 0\n",
        "sol= 0\n",
        "for i in range (1000): \n",
        "  x= random.random()\n",
        "  if x<= 0.5:\n",
        "    aguila +=1\n",
        "  else:\n",
        "    sol +=1\n",
        "\n",
        "print(\"han salido\", aguila,\"Aguilas y\", sol,\"soles\")"
      ],
      "metadata": {
        "id": "LQ6f2gTUCunw",
        "outputId": "a961b698-8e50-45c6-efa9-fd94b81997af",
        "colab": {
          "base_uri": "https://localhost:8080/"
        }
      },
      "execution_count": 91,
      "outputs": [
        {
          "output_type": "stream",
          "name": "stdout",
          "text": [
            "han salido 496 Aguilas y 504 soles\n"
          ]
        }
      ]
    },
    {
      "cell_type": "code",
      "source": [
        "#Determinar la probabilida de que salga sol \n",
        "prob=sol/1000 \n",
        "print(\"La probabilidad de caer sol es \", prob)"
      ],
      "metadata": {
        "id": "ntFAsVTuF6jS",
        "outputId": "9e644fed-fd46-4a7f-f54c-a13ecc92d721",
        "colab": {
          "base_uri": "https://localhost:8080/"
        }
      },
      "execution_count": 92,
      "outputs": [
        {
          "output_type": "stream",
          "name": "stdout",
          "text": [
            "La probabilidad de caer sol es  0.504\n"
          ]
        }
      ]
    },
    {
      "cell_type": "markdown",
      "metadata": {
        "id": "qTQl6BVd_F5a"
      },
      "source": [
        "La función uniform() devuelve un número float incluido entre los valores indicados."
      ]
    },
    {
      "cell_type": "code",
      "execution_count": 49,
      "metadata": {
        "id": "cp2KxQHG_F5a",
        "outputId": "4c65a292-1cf4-451e-da36-75192f81c61e",
        "colab": {
          "base_uri": "https://localhost:8080/"
        }
      },
      "outputs": [
        {
          "output_type": "stream",
          "name": "stdout",
          "text": [
            "23 40 5 27 5 16 9 37 35 36 \n"
          ]
        }
      ],
      "source": [
        "for i in range(10):\n",
        "    print('%1.0f' %random.uniform(1, 50), end=' ')\n",
        "print()"
      ]
    },
    {
      "cell_type": "markdown",
      "metadata": {
        "id": "lDcCT_D__F5a"
      },
      "source": [
        "La función randint() devuelve un número entero incluido entre los valores indicados. \n",
        "Los valores de los límites inferior y superior también pueden aparecer entre los valores devueltos."
      ]
    },
    {
      "cell_type": "code",
      "execution_count": 95,
      "metadata": {
        "id": "wrGGv-zI_F5b",
        "outputId": "1b5afe17-25a1-4ab8-909d-65dd0453a06f",
        "colab": {
          "base_uri": "https://localhost:8080/"
        }
      },
      "outputs": [
        {
          "output_type": "stream",
          "name": "stdout",
          "text": [
            "azul\n"
          ]
        }
      ],
      "source": [
        "def sorteo():\n",
        "  x=random.randint(0,5)\n",
        "  if x <= 1:\n",
        "    color = \"blanco\"\n",
        "  \n",
        "  elif x <= 2:\n",
        "    color = \"negro\"\n",
        "\n",
        "  elif x <= 3:\n",
        "    color = \"rojo\"\n",
        "\n",
        "  elif x <= 4:\n",
        "    color = \"azul\"\n",
        "\n",
        "  elif x <= 5:\n",
        "    color =\"verde\"\n",
        "\n",
        "  return color\n",
        "\n",
        "print(sorteo())\n"
      ]
    },
    {
      "cell_type": "markdown",
      "metadata": {
        "id": "IbJ1IdXJ_F5c"
      },
      "source": [
        "## Ejercicio 2:\n",
        "    a) Simular un sorteo de los colores blanco, negro, rojo, azul y verde.\n",
        "    b) Simular 5 sorteos con sustitución."
      ]
    },
    {
      "cell_type": "code",
      "source": [
        "#Simular un sorteo de los colores blanco, rojo, negro, azul y verde\n",
        "def sorteo():\n",
        "  x=random.randint(0,5)\n",
        "  if x <= 1:\n",
        "    color = \"blanco\"\n",
        "  \n",
        "  elif x <= 2:\n",
        "    color = \"negro\"\n",
        "\n",
        "  elif x <= 3:\n",
        "    color = \"rojo\"\n",
        "\n",
        "  elif x <= 4:\n",
        "    color = \"azul\"\n",
        "\n",
        "  elif x <= 5:\n",
        "    color =\"verde\"\n",
        "\n",
        "  return color\n",
        "\n",
        "print(sorteo())\n"
      ],
      "metadata": {
        "id": "h7P9qnMSJ5-B",
        "outputId": "56c62410-ac9c-4c28-be27-6a8a17862070",
        "colab": {
          "base_uri": "https://localhost:8080/"
        }
      },
      "execution_count": 96,
      "outputs": [
        {
          "output_type": "stream",
          "name": "stdout",
          "text": [
            "rojo\n"
          ]
        }
      ]
    },
    {
      "cell_type": "code",
      "source": [
        "#Simular 5 sorteos con sustitución.\n",
        "l = []\n",
        "cuenta = 0\n",
        "nr = 5\n",
        "for i in range(nr):\n",
        "    x = sorteo()\n",
        "    l.append(x)\n",
        "print(l)"
      ],
      "metadata": {
        "id": "txNDLHrhNyrZ",
        "outputId": "c1ea94b6-70d5-446f-d044-ffd67ebfe089",
        "colab": {
          "base_uri": "https://localhost:8080/"
        }
      },
      "execution_count": 77,
      "outputs": [
        {
          "output_type": "stream",
          "name": "stdout",
          "text": [
            "['blanco', 'azul', 'blanco', 'azul', 'blanco']\n"
          ]
        }
      ]
    },
    {
      "cell_type": "markdown",
      "metadata": {
        "id": "6jjywkEW_F5c"
      },
      "source": [
        "La función randrange() devuelve enteros que van desde un valor inicial a otro final \n",
        "separados entre sí un número de valores determinados."
      ]
    },
    {
      "cell_type": "code",
      "execution_count": null,
      "metadata": {
        "id": "1smPHhrI_F5c"
      },
      "outputs": [],
      "source": [
        "for i in range(20):\n",
        "    print(random.randrange(0, 20, 3), end=' ')\n",
        "print()"
      ]
    },
    {
      "cell_type": "markdown",
      "metadata": {
        "id": "o5D6PaKF_F5d"
      },
      "source": [
        "# 2. Estimación del número $\\pi$"
      ]
    },
    {
      "cell_type": "code",
      "execution_count": null,
      "metadata": {
        "id": "9SB0tP3p_F5d"
      },
      "outputs": [],
      "source": [
        "import matplotlib.pyplot as plt\n",
        "import numpy as np"
      ]
    },
    {
      "cell_type": "code",
      "execution_count": null,
      "metadata": {
        "id": "q0ny9Gp3_F5d"
      },
      "outputs": [],
      "source": [
        "x = np.linspace(0, 1, 100)\n",
        "y = np.sqrt(1 - x**2)               # Ecuación del círculo en el primer cuadrante \n",
        "\n",
        "\n",
        "x_1 = random.random()\n",
        "y_1 = random.random()\n",
        "\n",
        "fig = plt.figure(1, figsize=(8, 8))        # Aquí fijamos el formato de la gráfica para que sea cuadrada.\n",
        "plt.plot(x, y, color=\"red\", markersize=1) \n",
        "plt.scatter(x_1, y_1, s=20, c=\"blue\")\n",
        "plt.title(\"Estimación de $\\pi$\")\n",
        "plt.xlabel(\"X\")\n",
        "plt.ylabel(\"Y\")\n",
        "plt.grid()\n",
        "plt.show()"
      ]
    },
    {
      "cell_type": "markdown",
      "metadata": {
        "id": "_Z0w1ZXw_F5d"
      },
      "source": [
        "# Tarea 1. \n",
        "    Estimar el valor de pi usando la función random"
      ]
    },
    {
      "cell_type": "code",
      "execution_count": 99,
      "metadata": {
        "id": "jAJYN4Mv_F5e",
        "outputId": "45e5aa19-370c-4d93-ff04-1f5cc090b75d",
        "colab": {
          "base_uri": "https://localhost:8080/"
        }
      },
      "outputs": [
        {
          "output_type": "stream",
          "name": "stdout",
          "text": [
            "3.14159704\n"
          ]
        }
      ],
      "source": [
        "cuenta=0\n",
        "nr=100000000 #conforme este numero crezca la aproximación sera mejor\n",
        "for i in range(nr):\n",
        "    x=random.random()\n",
        "    y=random.random()\n",
        "    if x**2+y**2<1: #usando la ecuación de una circunferencia\n",
        "        cuenta=cuenta+1 \n",
        "print(4*cuenta/nr)"
      ]
    },
    {
      "cell_type": "markdown",
      "metadata": {
        "id": "kwH-R9rL_F5e"
      },
      "source": [
        "## La aproximación analítica"
      ]
    },
    {
      "cell_type": "markdown",
      "metadata": {
        "id": "mV6TeNoD_F5e"
      },
      "source": [
        "Partamos de la ecuación:\n",
        "\n",
        "##     $\\pi = 4\\arctan 1$\n",
        "\n",
        "y usemos la aproximación de Taylor para expandir en una serie de potencias.\n",
        "\n",
        "Recordar:\n",
        "\n",
        "$f(x) = f(0) + f´(x)x + \\frac{1}{2}f´´(0)x^2 + ...$\n",
        "\n",
        "$Si f(x) = \\arctan x$ entonces:\n",
        "\n",
        "$f´(x) = \\frac{d \\arctan x}{dx} = \\frac{1}{1 + x^2} \\rightarrow f´(0) = 1$\n",
        "\n",
        "$f´´(x) = \\frac{d^2 \\arctan x}{d^2x} = - \\frac{2x}{(1 + x^2)^2} \\rightarrow f´´(0) = 0$\n",
        "\n",
        "...\n",
        "\n",
        "$f^{2i + 1}(x) = (-1)^{i} \\frac{(2i)!}{(1 + x^2)^{2i + 1}} \\rightarrow f^{2i + 1}(0) = (-1)(2i)!$\n",
        "\n",
        "$f^{2i}(x) = 0$\n",
        "\n",
        "Entonces:\n",
        "\n",
        "$\\arctan x = \\sum_{i = 0} (-1)^{i} \\frac{x^{2i + 1}}{2i + 1}$\n",
        "\n",
        "Por tanto:\n",
        "\n",
        "## $\\pi = \\sum_{i = 0} (-1)^{i} \\frac{4}{2i + 1}$"
      ]
    },
    {
      "cell_type": "code",
      "execution_count": null,
      "metadata": {
        "id": "zTLe5Ugt_F5f"
      },
      "outputs": [],
      "source": [
        "def pi_taylor(n):\n",
        "    pi = 0\n",
        "    for i in range(n):\n",
        "        pi = pi + 4.0/(2*i+1)*(-1)**i\n",
        "        print(i, pi)"
      ]
    },
    {
      "cell_type": "code",
      "execution_count": null,
      "metadata": {
        "id": "rUTq9WE6_F5f"
      },
      "outputs": [],
      "source": [
        "pi_taylor(10)"
      ]
    },
    {
      "cell_type": "code",
      "execution_count": null,
      "metadata": {
        "id": "FuVXxEb__F5f"
      },
      "outputs": [],
      "source": [
        "def pi_Taylor(n):\n",
        "    pi = 0\n",
        "    L =[]\n",
        "    for i in range(n):\n",
        "        pi = pi + 4.0/(2*i+1)*(-1)**i\n",
        "        L.append(pi)\n",
        "    fig = plt.figure(1, figsize=(8, 8))        \n",
        "    plt.plot(L, color=\"red\", markersize=1)\n",
        "    plt.xlabel(\"Iteraciones\")\n",
        "    plt.ylabel(\"Estimación\")\n",
        "    plt.grid()\n",
        "    plt.show()"
      ]
    },
    {
      "cell_type": "code",
      "execution_count": null,
      "metadata": {
        "id": "Omd3QH_i_F5g"
      },
      "outputs": [],
      "source": [
        "pi_Taylor(200)"
      ]
    },
    {
      "cell_type": "markdown",
      "metadata": {
        "id": "IV0K0c7d_F5g"
      },
      "source": [
        "## Ejercicio 3:\n",
        "\n",
        "Graficar las salidas obtenidas en la Tarea 1"
      ]
    },
    {
      "cell_type": "code",
      "source": [
        "import matplotlib.pyplot as plt\n",
        "import numpy as np\n",
        "cuenta=0\n",
        "pi=0\n",
        "nr=2000 #conforme este numero crezca la aproximación sera mejor\n",
        "lx=[]\n",
        "ly=[]\n",
        "for i in range(nr):\n",
        "    x=random.random()\n",
        "    y=random.random()\n",
        "    if x**2+y**2<1: #usando la ecuación de una circunferencia\n",
        "        cuenta=cuenta+1 \n",
        "    i=i+1\n",
        "    pi = 4*cuenta/i\n",
        "    lx.append(i)\n",
        "    ly.append(pi)\n",
        "print(i, pi)\n",
        "fig = plt.figure(1, figsize=(8, 8))\n",
        "plt.plot(lx,ly, color=\"red\", markersize=1)\n",
        "plt.xlabel('Número de dardos')\n",
        "plt.ylabel('Valor de PI aproximado')\n",
        "plt.grid()\n",
        "plt.show()"
      ],
      "metadata": {
        "id": "AA9YYCSubTYy",
        "outputId": "edfd1b0f-b309-4c34-aa07-3501063c9098",
        "colab": {
          "base_uri": "https://localhost:8080/",
          "height": 235
        }
      },
      "execution_count": 81,
      "outputs": [
        {
          "output_type": "error",
          "ename": "AttributeError",
          "evalue": "ignored",
          "traceback": [
            "\u001b[0;31m---------------------------------------------------------------------------\u001b[0m",
            "\u001b[0;31mAttributeError\u001b[0m                            Traceback (most recent call last)",
            "\u001b[0;32m<ipython-input-81-0dfe7c2df925>\u001b[0m in \u001b[0;36m<module>\u001b[0;34m()\u001b[0m\n\u001b[1;32m      7\u001b[0m \u001b[0mly\u001b[0m\u001b[0;34m=\u001b[0m\u001b[0;34m[\u001b[0m\u001b[0;34m]\u001b[0m\u001b[0;34m\u001b[0m\u001b[0;34m\u001b[0m\u001b[0m\n\u001b[1;32m      8\u001b[0m \u001b[0;32mfor\u001b[0m \u001b[0mi\u001b[0m \u001b[0;32min\u001b[0m \u001b[0mrange\u001b[0m\u001b[0;34m(\u001b[0m\u001b[0mnr\u001b[0m\u001b[0;34m)\u001b[0m\u001b[0;34m:\u001b[0m\u001b[0;34m\u001b[0m\u001b[0;34m\u001b[0m\u001b[0m\n\u001b[0;32m----> 9\u001b[0;31m     \u001b[0mx\u001b[0m\u001b[0;34m=\u001b[0m\u001b[0mrandom\u001b[0m\u001b[0;34m.\u001b[0m\u001b[0mrandom\u001b[0m\u001b[0;34m(\u001b[0m\u001b[0;34m)\u001b[0m\u001b[0;34m\u001b[0m\u001b[0;34m\u001b[0m\u001b[0m\n\u001b[0m\u001b[1;32m     10\u001b[0m     \u001b[0my\u001b[0m\u001b[0;34m=\u001b[0m\u001b[0mrandom\u001b[0m\u001b[0;34m.\u001b[0m\u001b[0mrandom\u001b[0m\u001b[0;34m(\u001b[0m\u001b[0;34m)\u001b[0m\u001b[0;34m\u001b[0m\u001b[0;34m\u001b[0m\u001b[0m\n\u001b[1;32m     11\u001b[0m     \u001b[0;32mif\u001b[0m \u001b[0mx\u001b[0m\u001b[0;34m**\u001b[0m\u001b[0;36m2\u001b[0m\u001b[0;34m+\u001b[0m\u001b[0my\u001b[0m\u001b[0;34m**\u001b[0m\u001b[0;36m2\u001b[0m\u001b[0;34m<\u001b[0m\u001b[0;36m1\u001b[0m\u001b[0;34m:\u001b[0m \u001b[0;31m#usando la ecuación de una circunferencia\u001b[0m\u001b[0;34m\u001b[0m\u001b[0;34m\u001b[0m\u001b[0m\n",
            "\u001b[0;31mAttributeError\u001b[0m: 'builtin_function_or_method' object has no attribute 'random'"
          ]
        }
      ]
    },
    {
      "cell_type": "markdown",
      "metadata": {
        "id": "zo1nPktE_F5g"
      },
      "source": [
        "## Continuamos"
      ]
    },
    {
      "cell_type": "code",
      "execution_count": null,
      "metadata": {
        "id": "B-SyQKTH_F5g"
      },
      "outputs": [],
      "source": [
        "x = np.linspace(0, 1, 100)\n",
        "y = np.sqrt(1 - x**2)               # Ecuación del círculo en el primer cuadrante \n",
        "\n",
        "\n",
        "x_1 = random.random()\n",
        "y_1 = random.random()\n",
        "\n",
        "fig = plt.figure(1, figsize=(8, 8))        # Aquí fijamos el formato de la gráfica para que sea cuadrada.\n",
        "plt.plot(x, y, color=\"red\", markersize=1) \n",
        "plt.scatter(x_1, y_1, s=20, c=\"blue\")\n",
        "plt.title(\"Estimación de $\\pi$\")\n",
        "plt.xlabel(\"X\")\n",
        "plt.ylabel(\"Y\")\n",
        "plt.grid()\n",
        "plt.show()"
      ]
    },
    {
      "cell_type": "code",
      "execution_count": null,
      "metadata": {
        "id": "WnjVjBFY_F5g"
      },
      "outputs": [],
      "source": [
        "def pi_mc(n):\n",
        "    pi = 0\n",
        "    counter = 0\n",
        "    for i in range(n):\n",
        "        x = random.random()\n",
        "        y = random.random()\n",
        "        if x**2 + y**2 <1:\n",
        "            counter = counter + 1\n",
        "        pi = 4.0*float(counter)/(i + 1)\n",
        "        print(i, pi)"
      ]
    },
    {
      "cell_type": "code",
      "execution_count": null,
      "metadata": {
        "id": "u1z4Qge1_F5g"
      },
      "outputs": [],
      "source": [
        "pi_mc(10)"
      ]
    },
    {
      "cell_type": "code",
      "execution_count": null,
      "metadata": {
        "id": "5EbCW3_p_F5h"
      },
      "outputs": [],
      "source": [
        "def pi_mc(n):\n",
        "    pi = 0\n",
        "    lx = []\n",
        "    ly = []\n",
        "    counter = 0\n",
        "    for i in range(n):\n",
        "        x = random.random()\n",
        "        y = random.random()\n",
        "        if x**2 + y**2 <1:\n",
        "            counter = counter + 1\n",
        "            lx.append(counter)\n",
        "            ly.append(4.0*float(counter)/(i + 1))\n",
        "        \n",
        "        pi = 4.0*float(counter)/(i + 1)\n",
        "        \n",
        "        e = np.absolute((pi - np.pi)/np.pi)\n",
        "    print(\"pi =\", pi)\n",
        "    print(\"error =\", e)\n",
        "    \n",
        "    fig = plt.figure(1, figsize=(8, 8))        \n",
        "    plt.xlabel(\"Iteraciones\")\n",
        "    plt.ylabel(\"Estimación de $\\pi$\")\n",
        "    plt.grid()\n",
        "    plt.plot(lx, ly, color=\"blue\", markersize=1)\n",
        "    plt.show()"
      ]
    },
    {
      "cell_type": "code",
      "execution_count": null,
      "metadata": {
        "id": "vwfbi5rt_F5h"
      },
      "outputs": [],
      "source": [
        "pi_mc(1000)"
      ]
    },
    {
      "cell_type": "markdown",
      "metadata": {
        "id": "tN-4oclw_F5h"
      },
      "source": [
        "Si se tiene, para cada punto aleatorio:\n",
        "    \n",
        "$X_i = 1$ si cae dentro del circulo y\n",
        "\n",
        "$X_i = 0$ si cae fuera"
      ]
    },
    {
      "cell_type": "markdown",
      "metadata": {
        "id": "U5bibWIV_F5i"
      },
      "source": [
        "## Ejercicio 4:\n",
        "\n",
        "a) Calcular $E[X_i]$ y $V[X_i]$\n",
        "\n",
        "\n"
      ]
    },
    {
      "cell_type": "markdown",
      "metadata": {
        "id": "ffoJFk07_F5i"
      },
      "source": [
        "Para el experimento de simulación, definimos $Z_N = \\frac{X_1 + X_2 + ... + X_N}{N}$"
      ]
    },
    {
      "cell_type": "code",
      "source": [
        "from statistics import mean, variance\n",
        "def pi_mc(n):\n",
        "    pi = 0\n",
        "    lx = []\n",
        "    ly = []\n",
        "    counter = 0\n",
        "    xi = 0\n",
        "    Z = []\n",
        "    for i in range(n):\n",
        "        x = random.random()\n",
        "        y = random.random()\n",
        "        if x**2 + y**2 <1:\n",
        "            counter = counter + 1\n",
        "            lx.append(counter)\n",
        "            ly.append(4.0*float(counter)/(i + 1))\n",
        "            xi = 1\n",
        "            Z.append(xi) #Se añade el valor de xi = 1\n",
        "        else:\n",
        "            xi = 0\n",
        "            Z.append(xi) #Se añade el valor de xi = 0\n",
        "        pi = 4.0*float(counter)/(i + 1)\n",
        "        e = np.absolute((pi - np.pi)/np.pi)\n",
        "        \n",
        "    media = mean(Z) #Obtenemos la media de la V.A xi\n",
        "    p=np.pi/4\n",
        "    errorE = np.absolute((media - (p))/(p)) \n",
        "    varianza = variance(Z)\n",
        "    errorV = np.absolute((varianza - ((p)*(1-p)))/(p))\n",
        "    print(\"pi =\", pi)\n",
        "    print(\"error =\", e)\n",
        "    print(\"Valor esperado obtenido mediante simulación\", media,\"Error en el calculo de la esperanza\", errorE)\n",
        "    print(\"Valor de la varianza por simulación\", varianza, \"Error respecto al valor real\", errorV)\n",
        "    \n",
        "    fig = plt.figure(1, figsize=(8, 8))        \n",
        "    plt.xlabel(\"Iteraciones\")\n",
        "    plt.ylabel(\"Estimación de $\\pi$\")\n",
        "    plt.grid()\n",
        "    plt.plot(lx, ly, color=\"blue\", markersize=1)\n",
        "    plt.show()"
      ],
      "metadata": {
        "id": "8I_NwwX1eC4i"
      },
      "execution_count": 100,
      "outputs": []
    },
    {
      "cell_type": "code",
      "source": [
        "pi_mc(10000)"
      ],
      "metadata": {
        "id": "eHhJsI3reE2X",
        "outputId": "8fd14df1-e388-46ec-ad3b-e36374534b6c",
        "colab": {
          "base_uri": "https://localhost:8080/",
          "height": 566
        }
      },
      "execution_count": 101,
      "outputs": [
        {
          "output_type": "stream",
          "name": "stdout",
          "text": [
            "pi = 3.1388\n",
            "error = 0.000888929246317861\n",
            "Valor esperado obtenido mediante simulación 0.7847 Error en el calculo de la esperanza 0.000888929246317861\n",
            "Valor de la varianza por simulación 0.16896280628062807 Error respecto al valor real 0.0005282899433706685\n"
          ]
        },
        {
          "output_type": "display_data",
          "data": {
            "text/plain": [
              "<Figure size 576x576 with 1 Axes>"
            ],
            "image/png": "[encoded data removed]"
          },
          "metadata": {
            "needs_background": "light"
          }
        }
      ]
    },
    {
      "cell_type": "markdown",
      "metadata": {
        "id": "vCLDDJl2_F5i"
      },
      "source": [
        "## Ejercicio 5:\n",
        "a) Calcular  $E[Z_N]$ y $V[Z_N]$\n",
        "b) ¿Cuál debe ser el valor de $N$ para que el error sea de 0.01?"
      ]
    },
    {
      "cell_type": "markdown",
      "source": [
        "Sea $Z_n = \\frac{x_1+x_2+.....+x_n}{N} $ para todo el circulo, si usamos un cuarto del circulo en tonces necesitamos que:\n",
        "$$z_n =4 \\frac{x_1+x_2+...+x_n}{N}$$\n",
        "Enonces la esperanza será: \\\\\n",
        "$$\\mathbb{E}\\left [ Z_n \\right ]=\\mathbb{E}\\left [ 4\\frac{x_1+x_2+..+x_n}{n} \\right ] = \\frac{4}{n}\\mathbb{E}\\left [ x_1+x_2+..+x_n \\right ]=\\frac{4}{n} \\mathbb{E}\\left [ x_1\\right ]+\\mathbb{E}\\left [ x_2\\right ] +...+\\mathbb{E}\\left [ x_n\\right ]$$\n",
        "$$=\\frac{4}{n}\\left [ N \\mathbb{E}\\left [ x_i \\right ] \\right ] $$\n",
        "$$=\\pi$$\n",
        "\n"
      ],
      "metadata": {
        "id": "d6sm3W0JgH8-"
      }
    },
    {
      "cell_type": "markdown",
      "source": [
        "$$\\mathbb{V}\\left [ Z_n \\right ] = ( \\frac{4}{N})^2 \\left [ N V|z_n \\right ] $$\n",
        "$$=\\frac{16}{N^2}[N(\\frac{\\pi}{4} - \\frac{\\pi^2}{16})]$$\n",
        "$$=\\frac{16}{N}[\\frac{\\pi}{4}(1-\\frac{\\pi}{4}]$$\n"
      ],
      "metadata": {
        "id": "UgmU6RwxuAGq"
      }
    },
    {
      "cell_type": "markdown",
      "source": [
        ""
      ],
      "metadata": {
        "id": "_kmPT-TAtz72"
      }
    },
    {
      "cell_type": "code",
      "source": [
        "pi_mc(26967)"
      ],
      "metadata": {
        "id": "OCUy6W-VeK1l"
      },
      "execution_count": null,
      "outputs": []
    },
    {
      "cell_type": "markdown",
      "metadata": {
        "id": "rKM1NSEn_F5i"
      },
      "source": [
        "# Integrales"
      ]
    },
    {
      "cell_type": "code",
      "execution_count": null,
      "metadata": {
        "id": "uu5CJB3M_F5j"
      },
      "outputs": [],
      "source": [
        "def riemannplot(f, a, b, ra, rb, n):\n",
        "    # f es la función \n",
        "    # a y b son los limites del eje x para graficar la funcion f\n",
        "    # ra y rb son los limites del intervalo en el eje x del que queremos calcular la suma\n",
        "    # n es el numero de rectangulos que calcularemos\n",
        "\n",
        "    atenuacion = (b-a)/100\n",
        "    x = np.arange(a, b+atenuacion, atenuacion)\n",
        "    \n",
        "    plt.plot(x, f(x), color='red')\n",
        "\n",
        "    delta_x = (rb-ra)/n\n",
        "    riemannx = np.arange(ra, rb, delta_x)\n",
        "    riemanny = f(riemannx)\n",
        "    riemann_sum = sum(riemanny*delta_x)\n",
        "\n",
        "    plt.bar(riemannx,riemanny,width=delta_x,alpha=0.5,edgecolor = 'black',facecolor='green')\n",
        "   \n",
        "    plt.xlabel('x')\n",
        "    plt.ylabel('f(x)')\n",
        "    \n",
        "    plt.title('Suma de Riemann por la izquierda de f(x)')\n",
        "    plt.figtext(0.1,-0.05, \"Suma de Riemann: %.5f \" %(riemann_sum), color='b')\n",
        "    plt.savefig('riemann.png')\n",
        "    plt.show()"
      ]
    },
    {
      "cell_type": "code",
      "execution_count": null,
      "metadata": {
        "id": "eVDTpz5V_F5j"
      },
      "outputs": [],
      "source": [
        "def f(x):\n",
        "    return np.sqrt(np.arctan(x))"
      ]
    },
    {
      "cell_type": "code",
      "execution_count": null,
      "metadata": {
        "id": "peaV5oVj_F5j"
      },
      "outputs": [],
      "source": [
        "riemannplot(f, 0, 1.001, 0, 1.001, 20)"
      ]
    },
    {
      "cell_type": "code",
      "execution_count": null,
      "metadata": {
        "id": "Yj5XR0-H_F5k"
      },
      "outputs": [],
      "source": [
        ""
      ]
    }
  ],
  "metadata": {
    "kernelspec": {
      "display_name": "Python 3",
      "language": "python",
      "name": "python3"
    },
    "language_info": {
      "codemirror_mode": {
        "name": "ipython",
        "version": 3
      },
      "file_extension": ".py",
      "mimetype": "text/x-python",
      "name": "python",
      "nbconvert_exporter": "python",
      "pygments_lexer": "ipython3",
      "version": "3.7.3"
    },
    "colab": {
      "name": "Uso de los números aleatorios.ipynb",
      "provenance": []
    }
  },
  "nbformat": 4,
  "nbformat_minor": 0
}