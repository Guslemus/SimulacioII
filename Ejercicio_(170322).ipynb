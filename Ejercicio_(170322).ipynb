{
  "nbformat": 4,
  "nbformat_minor": 0,
  "metadata": {
    "colab": {
      "name": "Ejercicio_(170322).ipynb",
      "provenance": [],
      "collapsed_sections": []
    },
    "kernelspec": {
      "name": "python3",
      "display_name": "Python 3"
    },
    "language_info": {
      "name": "python"
    }
  },
  "cells": [
    {
      "cell_type": "markdown",
      "source": [
        "#Ejercicio: Continuación ... (170322)\n",
        "Agregar dos columnas a la tabla anterior: Tamaño de la cola despues de  t  Clientes en el sistema después de  t .\n",
        "Con la información de la tabla completa, determinar:  λ ,  μ ,  L  y  Lq ."
      ],
      "metadata": {
        "id": "Q1drjXD_PVpF"
      }
    },
    {
      "cell_type": "markdown",
      "source": [
        "| Pkt No. |Tpll |tps  |Tiempo de arribo|Inicio de servicio|Hora de salida|Tiempo en fila |Tiempo en el sistema|Tamaño de cola|Clientes en sistema|\n",
        "|---------|-----|----|----|----|----|----|-----|------|------| \n",
        "|    1    |  2  | 12 | 2  | 2  | 14 | 0  | 12  |  4  |  5  |\n",
        "|    2    |  5  | 10 | 7  | 14 | 24 | 7  | 17  |  6  |  7  |\n",
        "|    3    |  1  | 16 | 8  | 24 | 40 | 16 | 32  |  7  |  8  |\n",
        "|    4    |  4  | 9  | 12 | 40 | 49 | 28 | 37  |  6  |  7  |\n",
        "|    5    |  1  | 10 | 13 | 49 | 59 | 36 | 46  |  5  |  6  |\n",
        "|    6    |  3  | 13 | 16 | 59 | 72 | 43 | 56  |  4  |  5  |\n",
        "|    7    |  3  | 17 | 19 | 72 | 89 | 53 | 70  |  3  |  4  |\n",
        "|    8    |  2  | 10 | 21 | 89 | 99 | 68 | 78  |  2  |  3  |\n",
        "|    9    |  4  | 8  | 25 | 99 | 107| 74 | 82  |  1  |  2  |\n",
        "|   10    |  5  | 12 | 30 | 107| 119| 77 | 89  |  0  |  1  ||"
      ],
      "metadata": {
        "id": "SHMjW1mdPWFF"
      }
    },
    {
      "cell_type": "markdown",
      "source": [
        "# Veamos los calculos para los parametros requeridos\n"
      ],
      "metadata": {
        "id": "Po5NPC2S2t9x"
      }
    },
    {
      "cell_type": "code",
      "source": [
        "lam=10/30                     # Calculo de lambda\n",
        "print(\"Lambda=\",lam)\n",
        "mu=10/(107-2)                 # Calcular mu\n",
        "print(\"Mu=\",mu)\n",
        "L=(5+7+8+7+6+5+4+3+2+1)/10    #Calcular L\n",
        "print(\"L=\",L)\n",
        "Lq=(4+6+7+6+5+4+3+2+1+0)/10   #Calcular Lq\n",
        "print(\"Lq=\",Lq)"
      ],
      "metadata": {
        "colab": {
          "base_uri": "https://localhost:8080/"
        },
        "id": "_IZAMSoAXFhO",
        "outputId": "10f63f80-e98b-4e9b-9b58-f2c9da538004"
      },
      "execution_count": 1,
      "outputs": [
        {
          "output_type": "stream",
          "name": "stdout",
          "text": [
            "Lambda= 0.3333333333333333\n",
            "Mu= 0.09523809523809523\n",
            "L= 4.8\n",
            "Lq= 3.8\n"
          ]
        }
      ]
    }
  ]
}